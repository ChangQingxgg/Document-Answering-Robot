{
  "nbformat": 4,
  "nbformat_minor": 0,
  "metadata": {
    "colab": {
      "provenance": [],
      "gpuType": "T4",
      "authorship_tag": "ABX9TyPzZrWQ0pSVNPeNlEz5vY4Z",
      "include_colab_link": true
    },
    "kernelspec": {
      "name": "python3",
      "display_name": "Python 3"
    },
    "language_info": {
      "name": "python"
    },
    "accelerator": "GPU"
  },
  "cells": [
    {
      "cell_type": "markdown",
      "metadata": {
        "id": "view-in-github",
        "colab_type": "text"
      },
      "source": [
        "<a href=\"https://colab.research.google.com/github/ChangQingxgg/Document-Answering-Robot/blob/main/%E6%96%87%E6%A1%A3%E9%97%AE%E7%AD%94%E6%9C%BA%E5%99%A8%E4%BA%BA.ipynb\" target=\"_parent\"><img src=\"https://colab.research.google.com/assets/colab-badge.svg\" alt=\"Open In Colab\"/></a>"
      ]
    },
    {
      "cell_type": "code",
      "execution_count": null,
      "metadata": {
        "colab": {
          "base_uri": "https://localhost:8080/"
        },
        "id": "MoOo0vsY3YY5",
        "outputId": "dd0db458-5894-41dd-e57b-f256c9da58ad"
      },
      "outputs": [
        {
          "output_type": "stream",
          "name": "stdout",
          "text": [
            "Cloning into 'wiki.deepin.org'...\n",
            "remote: Enumerating objects: 48037, done.\u001b[K\n",
            "remote: Counting objects: 100% (181/181), done.\u001b[K\n",
            "remote: Compressing objects: 100% (85/85), done.\u001b[K\n",
            "remote: Total 48037 (delta 120), reused 129 (delta 89), pack-reused 47856 (from 4)\u001b[K\n",
            "Receiving objects: 100% (48037/48037), 141.11 MiB | 22.62 MiB/s, done.\n",
            "Resolving deltas: 100% (31465/31465), done.\n",
            "Updating files: 100% (2249/2249), done.\n"
          ]
        }
      ],
      "source": [
        "!git clone https://github.com/linuxdeepin/wiki.deepin.org.git"
      ]
    },
    {
      "cell_type": "code",
      "source": [
        "!pip install markdown\n",
        "!pip install bs4\n",
        "!pip install whoosh\n",
        "!pip install transformers"
      ],
      "metadata": {
        "colab": {
          "base_uri": "https://localhost:8080/"
        },
        "id": "iTJzAbPk39I5",
        "outputId": "599d3054-3547-4522-e1c9-fa98405ed2fc"
      },
      "execution_count": null,
      "outputs": [
        {
          "output_type": "stream",
          "name": "stdout",
          "text": [
            "Requirement already satisfied: markdown in /usr/local/lib/python3.11/dist-packages (3.8)\n",
            "Requirement already satisfied: bs4 in /usr/local/lib/python3.11/dist-packages (0.0.2)\n",
            "Requirement already satisfied: beautifulsoup4 in /usr/local/lib/python3.11/dist-packages (from bs4) (4.13.4)\n",
            "Requirement already satisfied: soupsieve>1.2 in /usr/local/lib/python3.11/dist-packages (from beautifulsoup4->bs4) (2.7)\n",
            "Requirement already satisfied: typing-extensions>=4.0.0 in /usr/local/lib/python3.11/dist-packages (from beautifulsoup4->bs4) (4.13.2)\n",
            "Requirement already satisfied: whoosh in /usr/local/lib/python3.11/dist-packages (2.7.4)\n",
            "Requirement already satisfied: transformers in /usr/local/lib/python3.11/dist-packages (4.51.3)\n",
            "Requirement already satisfied: filelock in /usr/local/lib/python3.11/dist-packages (from transformers) (3.18.0)\n",
            "Requirement already satisfied: huggingface-hub<1.0,>=0.30.0 in /usr/local/lib/python3.11/dist-packages (from transformers) (0.31.2)\n",
            "Requirement already satisfied: numpy>=1.17 in /usr/local/lib/python3.11/dist-packages (from transformers) (2.0.2)\n",
            "Requirement already satisfied: packaging>=20.0 in /usr/local/lib/python3.11/dist-packages (from transformers) (24.2)\n",
            "Requirement already satisfied: pyyaml>=5.1 in /usr/local/lib/python3.11/dist-packages (from transformers) (6.0.2)\n",
            "Requirement already satisfied: regex!=2019.12.17 in /usr/local/lib/python3.11/dist-packages (from transformers) (2024.11.6)\n",
            "Requirement already satisfied: requests in /usr/local/lib/python3.11/dist-packages (from transformers) (2.32.3)\n",
            "Requirement already satisfied: tokenizers<0.22,>=0.21 in /usr/local/lib/python3.11/dist-packages (from transformers) (0.21.1)\n",
            "Requirement already satisfied: safetensors>=0.4.3 in /usr/local/lib/python3.11/dist-packages (from transformers) (0.5.3)\n",
            "Requirement already satisfied: tqdm>=4.27 in /usr/local/lib/python3.11/dist-packages (from transformers) (4.67.1)\n",
            "Requirement already satisfied: fsspec>=2023.5.0 in /usr/local/lib/python3.11/dist-packages (from huggingface-hub<1.0,>=0.30.0->transformers) (2025.3.2)\n",
            "Requirement already satisfied: typing-extensions>=3.7.4.3 in /usr/local/lib/python3.11/dist-packages (from huggingface-hub<1.0,>=0.30.0->transformers) (4.13.2)\n",
            "Requirement already satisfied: charset-normalizer<4,>=2 in /usr/local/lib/python3.11/dist-packages (from requests->transformers) (3.4.2)\n",
            "Requirement already satisfied: idna<4,>=2.5 in /usr/local/lib/python3.11/dist-packages (from requests->transformers) (3.10)\n",
            "Requirement already satisfied: urllib3<3,>=1.21.1 in /usr/local/lib/python3.11/dist-packages (from requests->transformers) (2.4.0)\n",
            "Requirement already satisfied: certifi>=2017.4.17 in /usr/local/lib/python3.11/dist-packages (from requests->transformers) (2025.4.26)\n"
          ]
        }
      ]
    },
    {
      "cell_type": "code",
      "source": [
        "import os\n",
        "print(f\"目录存在: {os.path.exists('wiki.deepin.org')}\")\n",
        "print(f\"目录内容: {os.listdir('wiki.deepin.org') if os.path.exists('wiki.deepin.org') else '目录不存在'}\")\n"
      ],
      "metadata": {
        "id": "qW6V_d7r357A",
        "outputId": "2dd907d5-2a82-45dd-8eb6-7a3ed90be6ba",
        "colab": {
          "base_uri": "https://localhost:8080/"
        }
      },
      "execution_count": null,
      "outputs": [
        {
          "output_type": "stream",
          "name": "stdout",
          "text": [
            "目录存在: False\n",
            "目录内容: 目录不存在\n"
          ]
        }
      ]
    },
    {
      "cell_type": "code",
      "source": [
        "import os\n",
        "import markdown\n",
        "from bs4 import BeautifulSoup\n",
        "import whoosh.index as index\n",
        "from whoosh.fields import Schema, TEXT\n",
        "from whoosh.qparser import MultifieldParser\n",
        "from transformers import pipeline\n",
        "\n",
        "# 解析 Markdown 文件为纯文本\n",
        "def md_to_text(md_content):\n",
        "    html = markdown.markdown(md_content)\n",
        "    soup = BeautifulSoup(html, \"html.parser\")\n",
        "    return soup.get_text()\n",
        "\n",
        "# 定义搜索索引模式\n",
        "schema = Schema(title=TEXT(stored=True), content=TEXT(stored=True), path=TEXT(stored=True), url=TEXT(stored=True))\n",
        "index_dir = \"wiki_index\"\n",
        "if not os.path.exists(index_dir):\n",
        "    os.mkdir(index_dir)\n",
        "ix = index.create_in(index_dir, schema) if not index.exists_in(index_dir) else index.open_dir(index_dir)\n",
        "\n",
        "# 构建搜索索引\n",
        "def build_index(wiki_dir, base_url):\n",
        "    writer = ix.writer()\n",
        "    for root, _, files in os.walk(wiki_dir):\n",
        "        for file in files:\n",
        "            if file.endswith(\".md\"):\n",
        "                file_path = os.path.join(root, file)\n",
        "                with open(file_path, \"r\", encoding=\"utf-8\") as f:\n",
        "                    md_content = f.read()\n",
        "                    text_content = md_to_text(md_content)\n",
        "                    #print(f\"文件：{file_path}\")\n",
        "                    #print(f\"解析后的文本：{text_content[:400]}\")  # 打印前200字符\n",
        "                    title = file.replace(\".md\", \"\")\n",
        "                    rel_path = os.path.relpath(file_path, wiki_dir).replace(\"\\\\\", \"/\")\n",
        "                    wiki_url = f\"{base_url}/{rel_path.replace('.md', '')}\"\n",
        "                    writer.add_document(title=title, content=text_content, path=file_path, url=wiki_url)\n",
        "    writer.commit()\n",
        "\n",
        "# 加载问答模型\n",
        "qa_pipeline = pipeline(\"question-answering\", model=\"NchuNLP/Chinese-Question-Answering\")\n",
        "\n",
        "# 回答用户问题\n",
        "def answer_question(question, top_k=5):\n",
        "    with ix.searcher() as searcher:\n",
        "        query = MultifieldParser([\"title\", \"content\"], ix.schema).parse(question)\n",
        "        print(f\"搜索查询：{query}\")\n",
        "        results = searcher.search(query, limit=top_k)\n",
        "        print(f\"找到 {len(results)} 个结果\")\n",
        "        for i, hit in enumerate(results, 1):\n",
        "            print(f\"结果 {i}: {hit['title']} (得分: {hit.score})\")\n",
        "        for hit in results:\n",
        "            print(f\"标题：{hit['title']}\")\n",
        "            print(f\"内容：{hit['content'][:200]}\")\n",
        "            print(f\"路径：{hit['path']}\")\n",
        "            print(f\"URL：{hit['url']}\")\n",
        "            context = hit[\"content\"]\n",
        "            result = qa_pipeline(question=question, context=context)\n",
        "            print(result[\"score\"])\n",
        "            if result[\"score\"] > 0.5:\n",
        "                return {\"answer\": result[\"answer\"], \"url\": hit[\"url\"], \"score\": result[\"score\"]}\n",
        "    return {\"answer\": \"未找到答案\", \"url\": \"\", \"score\": 0}\n",
        "\n",
        "# 主程序：命令行交互\n",
        "def main():\n",
        "    wiki_dir = \"wiki.deepin.org\"  # Wiki 本地路径\n",
        "    base_url = \"https://wiki.deepin.org\"  # Wiki 线上基础 URL\n",
        "    print(\"正在构建索引，请稍候...\")\n",
        "    build_index(wiki_dir, base_url)\n",
        "    print(\"欢迎使用 Deepin Wiki 聊天机器人！输入问题或输入 '退出' 结束。\")\n",
        "    while True:\n",
        "        question = input(\"问题：\")\n",
        "        if question.strip().lower() == \"退出\":\n",
        "            print(\"感谢使用，再见！\")\n",
        "            break\n",
        "        result = answer_question(question)\n",
        "        print(f\"回答：{result['answer']}\")\n",
        "        if result[\"url\"]:\n",
        "            print(f\"参考链接：{result['url']}\")\n",
        "        print()\n",
        "\n",
        "if __name__ == \"__main__\":\n",
        "    main()"
      ],
      "metadata": {
        "colab": {
          "base_uri": "https://localhost:8080/"
        },
        "id": "IKh2Qz8j38E8",
        "outputId": "ee14060f-1827-440b-bb0e-7744f46b04d5"
      },
      "execution_count": null,
      "outputs": [
        {
          "output_type": "stream",
          "name": "stderr",
          "text": [
            "Device set to use cuda:0\n"
          ]
        },
        {
          "output_type": "stream",
          "name": "stdout",
          "text": [
            "正在构建索引，请稍候...\n",
            "欢迎使用 Deepin Wiki 聊天机器人！输入问题或输入 '退出' 结束。\n",
            "问题：什么是深度壁纸？\n",
            "搜索查询：(title:什么是深度壁纸 OR content:什么是深度壁纸)\n",
            "找到 0 个结果\n",
            "回答：未找到答案\n",
            "\n",
            "问题：深度壁纸\n",
            "搜索查询：(title:深度壁纸 OR content:深度壁纸)\n",
            "找到 7 个结果\n",
            "结果 1: 深度壁纸 (得分: 20.299823157510325)\n",
            "结果 2: 深度壁纸 (得分: 20.299823157510325)\n",
            "结果 3: 深度壁纸 (得分: 20.299823157510325)\n",
            "结果 4: 深度壁纸 (得分: 20.299823157510325)\n",
            "结果 5: 深度壁纸 (得分: 20.299823157510325)\n",
            "标题：深度壁纸\n",
            "内容：\n",
            "title: 深度壁纸\n",
            "description: \n",
            "published: true\n",
            "date: 2023-02-22T09:00:26.950Z\n",
            "tags: \n",
            "editor: markdown\n",
            "dateCreated: 2022-04-21T03:47:31.467Z\n",
            "\n",
            "简介\n",
            "壁纸，又名电脑壁纸或桌面背景，是在桌面上可以随意个性化的图片。\n",
            "随着电脑技术的发展，从黑白屏到彩屏，电脑的待机桌面不再由\n",
            "路径：wiki.deepin.org/01_软件wiki/00_GUI软件/01_deepin开发的软件/深度壁纸.md\n",
            "URL：https://wiki.deepin.org/01_软件wiki/00_GUI软件/01_deepin开发的软件/深度壁纸\n",
            "0.00366831268183887\n",
            "标题：深度壁纸\n",
            "内容：\n",
            "title: 深度壁纸\n",
            "description: \n",
            "published: true\n",
            "date: 2023-02-22T09:00:26.950Z\n",
            "tags: \n",
            "editor: markdown\n",
            "dateCreated: 2022-04-21T03:47:31.467Z\n",
            "\n",
            "简介\n",
            "壁纸，又名电脑壁纸或桌面背景，是在桌面上可以随意个性化的图片。\n",
            "随着电脑技术的发展，从黑白屏到彩屏，电脑的待机桌面不再由\n",
            "路径：wiki.deepin.org/01_软件wiki/00_GUI软件/01_deepin开发的软件/深度壁纸.md\n",
            "URL：https://wiki.deepin.org/01_软件wiki/00_GUI软件/01_deepin开发的软件/深度壁纸\n",
            "0.00366831268183887\n",
            "标题：深度壁纸\n",
            "内容：\n",
            "title: 深度壁纸\n",
            "description: \n",
            "published: true\n",
            "date: 2023-02-22T09:00:26.950Z\n",
            "tags: \n",
            "editor: markdown\n",
            "dateCreated: 2022-04-21T03:47:31.467Z\n",
            "\n",
            "简介\n",
            "壁纸，又名电脑壁纸或桌面背景，是在桌面上可以随意个性化的图片。\n",
            "随着电脑技术的发展，从黑白屏到彩屏，电脑的待机桌面不再由\n",
            "路径：wiki.deepin.org/01_软件wiki/00_GUI软件/01_deepin开发的软件/深度壁纸.md\n",
            "URL：https://wiki.deepin.org/01_软件wiki/00_GUI软件/01_deepin开发的软件/深度壁纸\n",
            "0.00366831268183887\n",
            "标题：深度壁纸\n",
            "内容：\n",
            "title: 深度壁纸\n",
            "description: \n",
            "published: true\n",
            "date: 2023-02-22T09:00:26.950Z\n",
            "tags: \n",
            "editor: markdown\n",
            "dateCreated: 2022-04-21T03:47:31.467Z\n",
            "\n",
            "简介\n",
            "壁纸，又名电脑壁纸或桌面背景，是在桌面上可以随意个性化的图片。\n",
            "随着电脑技术的发展，从黑白屏到彩屏，电脑的待机桌面不再由\n",
            "路径：wiki.deepin.org/01_软件wiki/00_GUI软件/01_deepin开发的软件/深度壁纸.md\n",
            "URL：https://wiki.deepin.org/01_软件wiki/00_GUI软件/01_deepin开发的软件/深度壁纸\n",
            "0.00366831268183887\n",
            "标题：深度壁纸\n",
            "内容：\n",
            "title: 深度壁纸\n",
            "description: \n",
            "published: true\n",
            "date: 2023-02-22T09:00:26.950Z\n",
            "tags: \n",
            "editor: markdown\n",
            "dateCreated: 2022-04-21T03:47:31.467Z\n",
            "\n",
            "简介\n",
            "壁纸，又名电脑壁纸或桌面背景，是在桌面上可以随意个性化的图片。\n",
            "随着电脑技术的发展，从黑白屏到彩屏，电脑的待机桌面不再由\n",
            "路径：wiki.deepin.org/01_软件wiki/00_GUI软件/01_deepin开发的软件/深度壁纸.md\n",
            "URL：https://wiki.deepin.org/01_软件wiki/00_GUI软件/01_deepin开发的软件/深度壁纸\n",
            "0.00366831268183887\n",
            "回答：未找到答案\n",
            "\n",
            "问题：退出\n",
            "感谢使用，再见！\n"
          ]
        }
      ]
    },
    {
      "cell_type": "markdown",
      "source": [],
      "metadata": {
        "id": "sX7oSBW75g1m"
      }
    }
  ]
}